{
 "cells": [
  {
   "cell_type": "markdown",
   "metadata": {},
   "source": [
    "# Assignment: Implementing CUR decomposition\n",
    "\n",
    "In this assignment you will implement CUR decomposition from scratch (without using any library that directly implements CUR decomposition). You may use other library functions and svd though. \n",
    "\n",
    "Submission Instruction: name your file properly\n",
    "You can complete your assignment on this notebook. Then, save it as (or convert it to) a .py file and name it as CDS2.NN.py where NN denotes the last two digits of your roll number. For example, if your roll number is 23, the filename should be CDS2.23.py\n",
    "\n",
    "As default, it has been set to 00 now. \n",
    "\n",
    "### Submission instruction: \n",
    "\n",
    "Same as the instruction provided earlier. \n",
    "\n",
    "### Note: keep the functions the way they are defined.\n",
    "\n",
    "Your submission will be tested programmatically. Hence, keep the functions the way they are defined. Do not change the name or the parameters. If you need to, you can define more functions on your own. You may also write code to test your functions, but while submitting just submit the functions (delete or comment out extra code).\n",
    "\n",
    "### Late submission policy:\n",
    "If you submit late, your submission will still be graded, but your marks will be penalized at the rate of 1% per 15 minutes (4% per hour), which translates to 48% in 12 hours, and 100% (no marks at all) if you submit 25 hours late. Since things may go wrong at the last minute, please try to complete the assignment well ahead of time."
   ]
  },
  {
   "cell_type": "markdown",
   "metadata": {},
   "source": [
    "### 1. Compute the importance of each row\n",
    "\n",
    "Given an $m \\times n$ matrix $A$, return a vector of size $m$ containing the importance of each row. Note that the importance of the $i$-th row in this context is measured by \n",
    "\n",
    "${\\frac{\\sum_{j = 1}^n a_{ij}^2}{\\sum_{i=1}^m \\sum_{j=1}^n a_{ij}^2}}$. \n",
    "\n",
    "Essentially, the numerator is the squared norm of the $i$-th row, and the denominator is the squared (Frobenius) norm of the matrix $A$. You can use the function linalg.norm in numpy. \n",
    "\n",
    "You may want to test that the sum of the entries of this vector should be 1. "
   ]
  },
  {
   "cell_type": "code",
   "execution_count": 9,
   "metadata": {},
   "outputs": [],
   "source": [
    "import numpy as np\n",
    "from numpy import linalg as LA\n",
    "# Computes importance of each row\n",
    "def row_importance(A):\n",
    "    # It should not return zeros. Implement this function.\n",
    "    f= A.shape[0]\n",
    "    d= (LA.norm(A))**2\n",
    "    row_sum=np.zeros(f)\n",
    "    row_sum= (LA.norm(A, axis=1))**2\n",
    "    #if (d==0): print (\"A is an empty matrix\")\n",
    "    return (row_sum/d)"
   ]
  },
  {
   "cell_type": "markdown",
   "metadata": {},
   "source": [
    "### 2. Compute the importance of each column\n",
    "\n",
    "In a way similar to (1), compute the importance of each column. "
   ]
  },
  {
   "cell_type": "code",
   "execution_count": 10,
   "metadata": {},
   "outputs": [],
   "source": [
    "# Computes importance of each column\n",
    "import numpy as np\n",
    "from numpy import linalg as LA\n",
    "def col_importance(A):\n",
    "    # It should not return zeros. Implement this function.\n",
    "    f= A.shape[1]\n",
    "    d= (LA.norm(A))**2\n",
    "    col_sum=np.zeros(f)\n",
    "    col_sum= (LA.norm(A, axis=0))**2\n",
    "    #if (d==0): print (\"A is an empty matrix\")\n",
    "    return (col_sum/d)"
   ]
  },
  {
   "cell_type": "markdown",
   "metadata": {},
   "source": [
    "### 3. Selecting k indices from 0 to n given importance of each index\n",
    "\n",
    "To have a CUR decomposition, the $C$ and $R$ matrices should consist of selected columns and rows of $A$. The probability of each row (or column) being selected should be proportional to the importance of that row (or column). \n",
    "\n",
    "Write a function that returns the selected $k$ indices from the indices 0 to $n$, given a vector or importance for each index."
   ]
  },
  {
   "cell_type": "code",
   "execution_count": 11,
   "metadata": {},
   "outputs": [],
   "source": [
    "import numpy as np\n",
    "from numpy import linalg as LA\n",
    "def select_indices(imp, k):\n",
    "    # imp should be of size n\n",
    "    # k < n\n",
    "    # should return an array of indices of size k\n",
    "    # below code is a placeholder\n",
    "    #if (k>len(imp): print (\"ERROR\")\n",
    "    a=np.zeros(imp.size)\n",
    "    a=np.arange(0,imp.size)\n",
    "    #else:\n",
    "    return (np.random.choice(a,size=k,replace=False,p=imp))"
   ]
  },
  {
   "cell_type": "markdown",
   "metadata": {},
   "source": [
    "### 5. Compute W\n",
    "\n",
    "The matrix $W$ is the $k \\times k$ matrix, which is the intersection of the $k$ chosen rows and $k$ chosen columns of $A$. Given the indices of the chosen rows and columns, return $W$."
   ]
  },
  {
   "cell_type": "code",
   "execution_count": 12,
   "metadata": {},
   "outputs": [],
   "source": [
    "import numpy as np\n",
    "from numpy import linalg as LA\n",
    "def getW(A, rows, cols):\n",
    "    W = np.zeros([len(rows),len(cols)])\n",
    "    \n",
    "   # W1 = A [rows, : ][ : ,cols]\n",
    "    cc,rr=0,0\n",
    "    for i in rows:\n",
    "        cc=0\n",
    "        for j in cols:\n",
    "            W[rr][cc]=A[i][j]\n",
    "            cc=cc+1\n",
    "        rr+=1\n",
    "    return W"
   ]
  },
  {
   "cell_type": "markdown",
   "metadata": {},
   "source": [
    "### 6. Compute U\n",
    "\n",
    "Compute $U$ in the following steps. \n",
    "1. Compute SVD of $W = X\\Sigma Y^T$.\n",
    "2. Compute the psudo-inverse $\\Sigma^+$ of $\\Sigma$. \n",
    "3. Compute $U = Y (\\Sigma^+)^2 X^T$."
   ]
  },
  {
   "cell_type": "code",
   "execution_count": 13,
   "metadata": {},
   "outputs": [],
   "source": [
    "import numpy as np\n",
    "from numpy import linalg as LA\n",
    "def getU(W):\n",
    "    X,S,YT= LA.svd(W) #SVD\n",
    "    Y = np.transpose(YT) \n",
    "    XT=np.transpose(X)\n",
    "    S=np.diag(S)\n",
    "    #print(\"S:\",S,\"\\n\")\n",
    "    S2=(LA.pinv(S))**2 #pseudo-inverse\n",
    "    #print(\"PSEUDO:\", LA.pinv(S))\n",
    "    U = Y@S2@XT\n",
    "    return U"
   ]
  },
  {
   "cell_type": "markdown",
   "metadata": {},
   "source": [
    "### 7. Wrap these functions into a function CUR\n",
    "\n",
    "Now, use the functions written above to write a single function which computes the CUR decomposition of $A$. It should return $C$, $U$ and $R$."
   ]
  },
  {
   "cell_type": "code",
   "execution_count": 39,
   "metadata": {},
   "outputs": [
    {
     "name": "stdout",
     "output_type": "stream",
     "text": [
      "S: [[3.16227766 0.        ]\n",
      " [0.         0.        ]] \n",
      "\n",
      "PSEUDO: [[0.31622777 0.        ]\n",
      " [0.         0.        ]]\n"
     ]
    },
    {
     "data": {
      "text/plain": [
       "(array([[1, 1],\n",
       "        [2, 2]]), array([[0.06324555, 0.03162278],\n",
       "        [0.06324555, 0.03162278]]), array([[2, 2],\n",
       "        [1, 1]]))"
      ]
     },
     "execution_count": 39,
     "metadata": {},
     "output_type": "execute_result"
    }
   ],
   "source": [
    "import numpy as np\n",
    "from numpy import linalg as LA\n",
    "def cur(A, k):\n",
    "    d= (LA.norm(A))**2\n",
    "    if (d!=0):\n",
    "        r = row_importance(A)\n",
    "        c = col_importance(A)\n",
    "        rows = select_indices(r,k)\n",
    "        cols = select_indices(c,k)\n",
    "        C = A[:,cols]\n",
    "        U = getU(getW(A,rows,cols))\n",
    "        R = A[rows,:]\n",
    "        return C, U, R \n",
    "    else:\n",
    "        print (\"ERROR\")\n",
    "        \n",
    "#cur(np.array([[1,1],[2,2]]),2)"
   ]
  },
  {
   "cell_type": "code",
   "execution_count": null,
   "metadata": {},
   "outputs": [],
   "source": []
  }
 ],
 "metadata": {
  "kernelspec": {
   "display_name": "Python 3",
   "language": "python",
   "name": "python3"
  },
  "language_info": {
   "codemirror_mode": {
    "name": "ipython",
    "version": 3
   },
   "file_extension": ".py",
   "mimetype": "text/x-python",
   "name": "python",
   "nbconvert_exporter": "python",
   "pygments_lexer": "ipython3",
   "version": "3.7.4"
  }
 },
 "nbformat": 4,
 "nbformat_minor": 2
}
